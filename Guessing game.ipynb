{
 "cells": [
  {
   "cell_type": "code",
   "execution_count": 1,
   "id": "5b311fba",
   "metadata": {},
   "outputs": [
    {
     "name": "stdout",
     "output_type": "stream",
     "text": [
      "Round 1: guesser: You\n",
      "Guess: 5\n",
      "Too low, guess again\n",
      "Guess: 7\n",
      "Too low, guess again\n",
      "Guess: 9\n",
      "Too low, guess again\n",
      "Guess: 10\n",
      "You guessed 10 correctly!!\n",
      "Round 2: guesser: Computer\n",
      "Is 10 too high 'H' Too low 'L' Correct 'C': h\n",
      "Is 3 too high 'H' Too low 'L' Correct 'C': l\n",
      "Is 8 too high 'H' Too low 'L' Correct 'C': h\n",
      "Is 4 too high 'H' Too low 'L' Correct 'C': l\n",
      "Is 7 too high 'H' Too low 'L' Correct 'C': c\n",
      "You win\n"
     ]
    }
   ],
   "source": [
    "import random\n",
    "\n",
    "def comp_guess(x, c_chances):\n",
    "    low=1\n",
    "    high=x\n",
    "    feedback=''\n",
    "    while feedback.upper()!='C':\n",
    "        c_chances+=1\n",
    "        guess=random.randint(low, high)\n",
    "        feedback=input(f\"Is {guess} too high 'H' Too low 'L' Correct 'C': \")\n",
    "        if feedback.upper()=='H':\n",
    "            high=guess-1\n",
    "        elif feedback.upper()=='L':\n",
    "            low=guess+1\n",
    "    return c_chances\n",
    "\n",
    "def your_guess(x, y_chances):\n",
    "    random_number = random.randint(1,x)\n",
    "    y_chances=0\n",
    "    guess=0\n",
    "    while guess!=random_number:\n",
    "        y_chances+=1\n",
    "        guess=int(input('Guess: '))\n",
    "        if guess>random_number:\n",
    "            print('Too high, guess again')\n",
    "        elif guess<random_number:\n",
    "            print('Too low, guess again')\n",
    "    print(f\"You guessed {random_number} correctly!!\")\n",
    "    return y_chances\n",
    "    \n",
    "\n",
    "print('Round 1: guesser: You')\n",
    "y_chances=your_guess(10, 0)\n",
    "\n",
    "print('Round 2: guesser: Computer')\n",
    "c_chances=comp_guess(10, 0)\n",
    "\n",
    "if y_chances>c_chances:\n",
    "    print('computer wins')\n",
    "elif c_chances>y_chances:\n",
    "    print('You win')\n",
    "else: print('Tie')"
   ]
  },
  {
   "cell_type": "code",
   "execution_count": null,
   "id": "cecd1162",
   "metadata": {},
   "outputs": [],
   "source": []
  }
 ],
 "metadata": {
  "kernelspec": {
   "display_name": "Python 3",
   "language": "python",
   "name": "python3"
  },
  "language_info": {
   "codemirror_mode": {
    "name": "ipython",
    "version": 3
   },
   "file_extension": ".py",
   "mimetype": "text/x-python",
   "name": "python",
   "nbconvert_exporter": "python",
   "pygments_lexer": "ipython3",
   "version": "3.8.8"
  }
 },
 "nbformat": 4,
 "nbformat_minor": 5
}
