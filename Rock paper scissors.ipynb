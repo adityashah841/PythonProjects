{
 "cells": [
  {
   "cell_type": "code",
   "execution_count": 17,
   "id": "6f29247c",
   "metadata": {},
   "outputs": [
    {
     "name": "stdout",
     "output_type": "stream",
     "text": [
      "'R' for rock\n",
      "'P' for paper\n",
      "'S' for scissors\n",
      "r\n",
      "R\n",
      "\n",
      "you: 0\n",
      "computer: 0\n",
      "p\n",
      "S\n",
      "\n",
      "you: 0\n",
      "computer: 1\n",
      "s\n",
      "R\n",
      "\n",
      "you: 0\n",
      "computer: 2\n",
      "r\n",
      "P\n",
      "\n",
      "you: 0\n",
      "computer: 3\n",
      "You lose\n"
     ]
    }
   ],
   "source": [
    "import  random\n",
    "def play():\n",
    "    user_score=0\n",
    "    comp_score=0\n",
    "    print(\"'R' for rock\\n'P' for paper\\n'S' for scissors\")\n",
    "    while user_score!=3 or comp_score!=3:\n",
    "        computer=random.choice(['R', 'P', 'S'])\n",
    "        user=input()\n",
    "        print(computer)\n",
    "        if user.upper()=='R':\n",
    "            if computer=='P':\n",
    "                comp_score+=1\n",
    "            elif computer=='S':\n",
    "                user_score+=1\n",
    "        if user.upper()=='P':\n",
    "            if computer=='S':\n",
    "                comp_score+=1\n",
    "            elif computer=='R':\n",
    "                user_score+=1\n",
    "        if user.upper()=='S':\n",
    "            if computer=='R':\n",
    "                comp_score+=1\n",
    "            elif computer=='P':\n",
    "                user_score+=1\n",
    "        print(f\"\\nyou: {user_score}\\ncomputer: {comp_score}\")\n",
    "        if comp_score==3 or user_score==3:\n",
    "            break\n",
    "    if comp_score>user_score:\n",
    "        print('You lose')\n",
    "    else: print('You win!')\n",
    "            \n",
    "play()"
   ]
  },
  {
   "cell_type": "code",
   "execution_count": null,
   "id": "3a7ae0d0",
   "metadata": {},
   "outputs": [],
   "source": []
  }
 ],
 "metadata": {
  "kernelspec": {
   "display_name": "Python 3",
   "language": "python",
   "name": "python3"
  },
  "language_info": {
   "codemirror_mode": {
    "name": "ipython",
    "version": 3
   },
   "file_extension": ".py",
   "mimetype": "text/x-python",
   "name": "python",
   "nbconvert_exporter": "python",
   "pygments_lexer": "ipython3",
   "version": "3.8.8"
  }
 },
 "nbformat": 4,
 "nbformat_minor": 5
}
